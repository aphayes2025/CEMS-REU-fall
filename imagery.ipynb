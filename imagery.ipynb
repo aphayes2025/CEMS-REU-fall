{
 "cells": [
  {
   "cell_type": "code",
   "execution_count": 8,
   "metadata": {},
   "outputs": [],
   "source": [
    "import os \n",
    "from PIL import Image\n",
    "import numpy as np \n",
    "import rasterio as rio\n",
    "import shutil"
   ]
  },
  {
   "cell_type": "code",
   "execution_count": 24,
   "metadata": {},
   "outputs": [
    {
     "name": "stdout",
     "output_type": "stream",
     "text": [
      "exists\n"
     ]
    }
   ],
   "source": [
    "# make folder of only imagery from these metadatas (8band specfically)\n",
    "dest_folder = 'Des-imagery'\n",
    "curr_folder = 'QHP-metadata'\n",
    "\n",
    "if not os.path.exists(dest_folder):\n",
    "    os.makedirs(dest_folder)\n",
    "\n",
    "for root, dirs, folders in os.walk(f'/Users/aidanhayes/Desktop/cems-reu-fall/{curr_folder}'):\n",
    "    for direc in dirs: \n",
    "        for file in (os.listdir(f'{curr_folder}/{direc}')):\n",
    "            # making sure only 8 band imagery is being processed\n",
    "            if 'SR_8b' in file:\n",
    "                print(f\"Found file: {file}\")\n",
    "                src_file_path = os.path.join(root, direc, file)\n",
    "                dest_file_path = os.path.join(f'/Users/aidanhayes/Desktop/cems-reu-fall/{dest_folder}', file)\n",
    "                \n",
    "                # copying file\n",
    "                shutil.copy(src_file_path, dest_file_path)\n",
    "                print(f\"Copied {file} to {dest_file_path}\")\n"
   ]
  },
  {
   "cell_type": "code",
   "execution_count": null,
   "metadata": {},
   "outputs": [],
   "source": [
    "# setting variables\n",
    "folder_path = '/Users/aidanhayes/Desktop/cems-reu-fall'\n",
    "image_dataset = []\n",
    "\n",
    "# looping through to get all imagery\n",
    "for root, dirs, files in os.walk(folder_path):\n",
    "    for direc in dirs:\n",
    "        if 'imagery' in direc:\n",
    "            for filename in os.listdir(direc):\n",
    "                image_path = os.path.join(direc, filename)\n",
    "                with rio.open(image_path) as src:\n",
    "                    bands = [src.read(i) for i in range(1, src.count + 1)]\n",
    "\n",
    "                # stacking bands into one variable\n",
    "                image = np.stack(bands, axis=-1)\n",
    "                img_height, img_width, num_bands = image.shape\n",
    "                print(f'Image dimensions: {img_height}x{img_width}, Number of bands: {num_bands}')"
   ]
  }
 ],
 "metadata": {
  "kernelspec": {
   "display_name": ".venv",
   "language": "python",
   "name": "python3"
  },
  "language_info": {
   "codemirror_mode": {
    "name": "ipython",
    "version": 3
   },
   "file_extension": ".py",
   "mimetype": "text/x-python",
   "name": "python",
   "nbconvert_exporter": "python",
   "pygments_lexer": "ipython3",
   "version": "3.12.5"
  }
 },
 "nbformat": 4,
 "nbformat_minor": 2
}
